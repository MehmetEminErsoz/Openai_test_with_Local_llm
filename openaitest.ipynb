{
 "cells": [
  {
   "cell_type": "code",
   "execution_count": 1,
   "metadata": {},
   "outputs": [],
   "source": [
    "from openai import OpenAI\n",
    "import datetime as dt\n",
    "\n",
    "\n",
    "mdl = \"llama3.1:8b\"\n",
    "\n",
    "def get_time():\n",
    "    # print(\"date :\" + dt.datetime.now().strftime(\"%H:%M:%S\"))\n",
    "    return dt.datetime.now().strftime(\"%H:%M:%S\")"
   ]
  },
  {
   "cell_type": "code",
   "execution_count": 2,
   "metadata": {},
   "outputs": [],
   "source": [
    "client = OpenAI(api_key=\"testkey\", base_url=\"http://localhost:11434/v1\")\n",
    "\n",
    "messages=[\n",
    "            {\"role\": \"system\", \"content\": \"You are a helpful assistant.\"},\n",
    "        ]\n",
    "\n",
    "\n",
    "tools=[\n",
    "    {\n",
    "        \"type\": \"function\",\n",
    "        \"function\":{\n",
    "            \"name\": \"get_time\",\n",
    "            \"description\": \"Get the current time\"\n",
    "        }\n",
    "    }\n",
    "]"
   ]
  },
  {
   "cell_type": "code",
   "execution_count": null,
   "metadata": {},
   "outputs": [
    {
     "name": "stdout",
     "output_type": "stream",
     "text": [
      "User :\n",
      "AI :It seems like you forgot to ask a question. Please provide the query you'd like me to help with, and I'll do my best to assist!\n",
      "Messages:  [{'role': 'system', 'content': 'You are a helpful assistant.'}, {'role': 'user', 'content': ''}, ChatCompletionMessage(content='', refusal=None, role='assistant', audio=None, function_call=None, tool_calls=[ChatCompletionMessageToolCall(id='call_fto3q5k4', function=Function(arguments='{}', name='get_time'), type='function', index=0)]), {'role': 'system', 'content': 'call_fto3q5k4'}, {'role': 'tool', 'content': '01:46:02', 'tool_call_id': 'call_fto3q5k4'}, {'role': 'system', 'content': \"It seems like you forgot to ask a question. Please provide the query you'd like me to help with, and I'll do my best to assist!\"}]\n",
      "User :What  time is it ?\n",
      "AI :It's currently 1:46 AM.\n",
      "Messages:  [{'role': 'system', 'content': 'You are a helpful assistant.'}, {'role': 'user', 'content': ''}, ChatCompletionMessage(content='', refusal=None, role='assistant', audio=None, function_call=None, tool_calls=[ChatCompletionMessageToolCall(id='call_fto3q5k4', function=Function(arguments='{}', name='get_time'), type='function', index=0)]), {'role': 'system', 'content': 'call_fto3q5k4'}, {'role': 'tool', 'content': '01:46:02', 'tool_call_id': 'call_fto3q5k4'}, {'role': 'system', 'content': \"It seems like you forgot to ask a question. Please provide the query you'd like me to help with, and I'll do my best to assist!\"}, {'role': 'user', 'content': 'What  time is it ?'}, ChatCompletionMessage(content='', refusal=None, role='assistant', audio=None, function_call=None, tool_calls=[ChatCompletionMessageToolCall(id='call_undzgnqo', function=Function(arguments='{}', name='get_time'), type='function', index=0)]), {'role': 'system', 'content': 'call_undzgnqo'}, {'role': 'tool', 'content': '01:46:14', 'tool_call_id': 'call_undzgnqo'}, {'role': 'system', 'content': \"It's currently 1:46 AM.\"}]\n",
      "User :\n",
      "AI :It is currently 1:46 AM.\n",
      "Messages:  [{'role': 'system', 'content': 'You are a helpful assistant.'}, {'role': 'user', 'content': ''}, ChatCompletionMessage(content='', refusal=None, role='assistant', audio=None, function_call=None, tool_calls=[ChatCompletionMessageToolCall(id='call_fto3q5k4', function=Function(arguments='{}', name='get_time'), type='function', index=0)]), {'role': 'system', 'content': 'call_fto3q5k4'}, {'role': 'tool', 'content': '01:46:02', 'tool_call_id': 'call_fto3q5k4'}, {'role': 'system', 'content': \"It seems like you forgot to ask a question. Please provide the query you'd like me to help with, and I'll do my best to assist!\"}, {'role': 'user', 'content': 'What  time is it ?'}, ChatCompletionMessage(content='', refusal=None, role='assistant', audio=None, function_call=None, tool_calls=[ChatCompletionMessageToolCall(id='call_undzgnqo', function=Function(arguments='{}', name='get_time'), type='function', index=0)]), {'role': 'system', 'content': 'call_undzgnqo'}, {'role': 'tool', 'content': '01:46:14', 'tool_call_id': 'call_undzgnqo'}, {'role': 'system', 'content': \"It's currently 1:46 AM.\"}, {'role': 'user', 'content': ''}, ChatCompletionMessage(content='', refusal=None, role='assistant', audio=None, function_call=None, tool_calls=[ChatCompletionMessageToolCall(id='call_nukggfte', function=Function(arguments='{}', name='get_time'), type='function', index=0)]), {'role': 'system', 'content': 'call_nukggfte'}, {'role': 'tool', 'content': '01:46:51', 'tool_call_id': 'call_nukggfte'}, {'role': 'system', 'content': 'It is currently 1:46 AM.'}]\n",
      "User :what time is it ?\n",
      "AI :It is currently 1:47 AM.\n",
      "Messages:  [{'role': 'system', 'content': 'You are a helpful assistant.'}, {'role': 'user', 'content': ''}, ChatCompletionMessage(content='', refusal=None, role='assistant', audio=None, function_call=None, tool_calls=[ChatCompletionMessageToolCall(id='call_fto3q5k4', function=Function(arguments='{}', name='get_time'), type='function', index=0)]), {'role': 'system', 'content': 'call_fto3q5k4'}, {'role': 'tool', 'content': '01:46:02', 'tool_call_id': 'call_fto3q5k4'}, {'role': 'system', 'content': \"It seems like you forgot to ask a question. Please provide the query you'd like me to help with, and I'll do my best to assist!\"}, {'role': 'user', 'content': 'What  time is it ?'}, ChatCompletionMessage(content='', refusal=None, role='assistant', audio=None, function_call=None, tool_calls=[ChatCompletionMessageToolCall(id='call_undzgnqo', function=Function(arguments='{}', name='get_time'), type='function', index=0)]), {'role': 'system', 'content': 'call_undzgnqo'}, {'role': 'tool', 'content': '01:46:14', 'tool_call_id': 'call_undzgnqo'}, {'role': 'system', 'content': \"It's currently 1:46 AM.\"}, {'role': 'user', 'content': ''}, ChatCompletionMessage(content='', refusal=None, role='assistant', audio=None, function_call=None, tool_calls=[ChatCompletionMessageToolCall(id='call_nukggfte', function=Function(arguments='{}', name='get_time'), type='function', index=0)]), {'role': 'system', 'content': 'call_nukggfte'}, {'role': 'tool', 'content': '01:46:51', 'tool_call_id': 'call_nukggfte'}, {'role': 'system', 'content': 'It is currently 1:46 AM.'}, {'role': 'user', 'content': 'what time is it ?'}, ChatCompletionMessage(content='', refusal=None, role='assistant', audio=None, function_call=None, tool_calls=[ChatCompletionMessageToolCall(id='call_r8vbfb5f', function=Function(arguments='{}', name='get_time'), type='function', index=0)]), {'role': 'system', 'content': 'call_r8vbfb5f'}, {'role': 'tool', 'content': '01:47:10', 'tool_call_id': 'call_r8vbfb5f'}, {'role': 'system', 'content': 'It is currently 1:47 AM.'}]\n",
      "User :now ?\n",
      "AI :It's 1:47 AM.\n",
      "Messages:  [{'role': 'system', 'content': 'You are a helpful assistant.'}, {'role': 'user', 'content': ''}, ChatCompletionMessage(content='', refusal=None, role='assistant', audio=None, function_call=None, tool_calls=[ChatCompletionMessageToolCall(id='call_fto3q5k4', function=Function(arguments='{}', name='get_time'), type='function', index=0)]), {'role': 'system', 'content': 'call_fto3q5k4'}, {'role': 'tool', 'content': '01:46:02', 'tool_call_id': 'call_fto3q5k4'}, {'role': 'system', 'content': \"It seems like you forgot to ask a question. Please provide the query you'd like me to help with, and I'll do my best to assist!\"}, {'role': 'user', 'content': 'What  time is it ?'}, ChatCompletionMessage(content='', refusal=None, role='assistant', audio=None, function_call=None, tool_calls=[ChatCompletionMessageToolCall(id='call_undzgnqo', function=Function(arguments='{}', name='get_time'), type='function', index=0)]), {'role': 'system', 'content': 'call_undzgnqo'}, {'role': 'tool', 'content': '01:46:14', 'tool_call_id': 'call_undzgnqo'}, {'role': 'system', 'content': \"It's currently 1:46 AM.\"}, {'role': 'user', 'content': ''}, ChatCompletionMessage(content='', refusal=None, role='assistant', audio=None, function_call=None, tool_calls=[ChatCompletionMessageToolCall(id='call_nukggfte', function=Function(arguments='{}', name='get_time'), type='function', index=0)]), {'role': 'system', 'content': 'call_nukggfte'}, {'role': 'tool', 'content': '01:46:51', 'tool_call_id': 'call_nukggfte'}, {'role': 'system', 'content': 'It is currently 1:46 AM.'}, {'role': 'user', 'content': 'what time is it ?'}, ChatCompletionMessage(content='', refusal=None, role='assistant', audio=None, function_call=None, tool_calls=[ChatCompletionMessageToolCall(id='call_r8vbfb5f', function=Function(arguments='{}', name='get_time'), type='function', index=0)]), {'role': 'system', 'content': 'call_r8vbfb5f'}, {'role': 'tool', 'content': '01:47:10', 'tool_call_id': 'call_r8vbfb5f'}, {'role': 'system', 'content': 'It is currently 1:47 AM.'}, {'role': 'user', 'content': 'now ?'}, ChatCompletionMessage(content='', refusal=None, role='assistant', audio=None, function_call=None, tool_calls=[ChatCompletionMessageToolCall(id='call_3js8lodn', function=Function(arguments='{\"param1\":null}', name='get_time'), type='function', index=0)]), {'role': 'system', 'content': 'call_3js8lodn'}, {'role': 'tool', 'content': '01:47:14', 'tool_call_id': 'call_3js8lodn'}, {'role': 'system', 'content': \"It's 1:47 AM.\"}]\n"
     ]
    }
   ],
   "source": [
    "def main():\n",
    "    resp = client.chat.completions.create(\n",
    "        model=mdl,\n",
    "        messages=messages,\n",
    "        tools=tools,\n",
    "        \n",
    "        )\n",
    "\n",
    "    if resp.choices[0].finish_reason ==\"tool_calls\":\n",
    "        function_name = resp.choices[0].message.tool_calls[0].function.name\n",
    "        \n",
    "        \n",
    "        if function_name == \"get_time\":\n",
    "\n",
    "            messages.append(resp.choices[0].message) \n",
    "            messages.append({\"role\": \"system\", \"content\": resp.choices[0].message.tool_calls[0].id})\n",
    "\n",
    "            function_response = {\"role\": \"tool\",\n",
    "             \"content\": get_time(),\n",
    "             \"tool_call_id\": resp.choices[0].message.tool_calls[0].id\n",
    "             }\n",
    "\n",
    "            messages.append(function_response)\n",
    "\n",
    "            return main()\n",
    "\n",
    "        \n",
    "    \n",
    "    return resp.choices[0].message.content\n",
    "\n",
    "\n",
    "if __name__ == \"__main__\":\n",
    "    \n",
    "    while True:\n",
    "        userInput = input(\"USER: \")\n",
    "        messages.append({\"role\": \"user\", \"content\": userInput})\n",
    "        print(\"User :\" + userInput)\n",
    "\n",
    "        response = main()\n",
    "        messages.append({\"role\": \"system\", \"content\": response})\n",
    "        print(\"AI :\" + response)\n",
    "\n",
    "        \n",
    "\n"
   ]
  }
 ],
 "metadata": {
  "kernelspec": {
   "display_name": ".venv",
   "language": "python",
   "name": "python3"
  },
  "language_info": {
   "codemirror_mode": {
    "name": "ipython",
    "version": 3
   },
   "file_extension": ".py",
   "mimetype": "text/x-python",
   "name": "python",
   "nbconvert_exporter": "python",
   "pygments_lexer": "ipython3",
   "version": "3.10.0"
  }
 },
 "nbformat": 4,
 "nbformat_minor": 2
}
