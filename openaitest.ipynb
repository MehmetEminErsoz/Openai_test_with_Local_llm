{
 "cells": [
  {
   "cell_type": "code",
   "execution_count": 1,
   "metadata": {},
   "outputs": [],
   "source": [
    "from openai import OpenAI\n",
    "import datetime as dt\n",
    "\n",
    "\n",
    "mdl = \"llama3.1:8b\"\n",
    "\n",
    "def get_time():\n",
    "    # print(\"date :\" + dt.datetime.now().strftime(\"%H:%M:%S\"))\n",
    "    return dt.datetime.now().strftime(\"%H:%M:%S\")"
   ]
  },
  {
   "cell_type": "code",
   "execution_count": 2,
   "metadata": {},
   "outputs": [],
   "source": [
    "client = OpenAI(api_key=\"testkey\", base_url=\"http://localhost:11434/v1\")\n",
    "\n",
    "messages=[\n",
    "            {\"role\": \"system\", \"content\": \"You are a helpful assistant.\"},\n",
    "        ]\n",
    "\n",
    "\n",
    "tools=[\n",
    "    {\n",
    "        \"type\": \"function\",\n",
    "        \"function\":{\n",
    "            \"name\": \"get_time\",\n",
    "            \"description\": \"Get the current time\"\n",
    "        }\n",
    "    }\n",
    "]"
   ]
  },
  {
   "cell_type": "code",
   "execution_count": null,
   "metadata": {},
   "outputs": [
    {
     "name": "stdout",
     "output_type": "stream",
     "text": [
      "User :What time is it ?\n",
      "AI :It's currently 2:06 AM.\n"
     ]
    }
   ],
   "source": [
    "def main():\n",
    "    resp = client.chat.completions.create(\n",
    "        model=mdl,\n",
    "        messages=messages,\n",
    "        tools=tools,\n",
    "        \n",
    "        )\n",
    "\n",
    "    if resp.choices[0].finish_reason ==\"tool_calls\":\n",
    "        function_name = resp.choices[0].message.tool_calls[0].function.name\n",
    "        \n",
    "        \n",
    "        if function_name == \"get_time\":\n",
    "\n",
    "            messages.append(resp.choices[0].message) \n",
    "            messages.append({\"role\": \"system\", \"content\": resp.choices[0].message.tool_calls[0].id})\n",
    "\n",
    "            function_response = {\"role\": \"tool\",\n",
    "             \"content\": get_time(),\n",
    "             \"tool_call_id\": resp.choices[0].message.tool_calls[0].id\n",
    "             }\n",
    "\n",
    "            messages.append(function_response)\n",
    "\n",
    "            return main()\n",
    "\n",
    "        \n",
    "    \n",
    "    return resp.choices[0].message.content\n",
    "\n",
    "\n",
    "if __name__ == \"__main__\":\n",
    "    \n",
    "    while True:\n",
    "        userInput = input(\"USER: \")\n",
    "        messages.append({\"role\": \"user\", \"content\": userInput})\n",
    "        print(\"User :\" + userInput)\n",
    "\n",
    "        response = main()\n",
    "        messages.append({\"role\": \"system\", \"content\": response})\n",
    "        print(\"AI :\" + response)\n",
    "\n",
    "        \n",
    "\n"
   ]
  }
 ],
 "metadata": {
  "kernelspec": {
   "display_name": ".venv",
   "language": "python",
   "name": "python3"
  },
  "language_info": {
   "codemirror_mode": {
    "name": "ipython",
    "version": 3
   },
   "file_extension": ".py",
   "mimetype": "text/x-python",
   "name": "python",
   "nbconvert_exporter": "python",
   "pygments_lexer": "ipython3",
   "version": "3.10.0"
  }
 },
 "nbformat": 4,
 "nbformat_minor": 2
}
